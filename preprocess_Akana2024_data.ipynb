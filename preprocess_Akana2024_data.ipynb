{
 "cells": [
  {
   "cell_type": "code",
   "execution_count": 3,
   "id": "c5c6b3a9",
   "metadata": {},
   "outputs": [],
   "source": [
    "import numpy as np\n",
    "from scipy import sparse\n",
    "from scipy.sparse import csr_array\n",
    "import pandas as pd\n",
    "import matplotlib.pyplot as plt"
   ]
  },
  {
   "cell_type": "code",
   "execution_count": 2,
   "id": "42511106",
   "metadata": {},
   "outputs": [
    {
     "data": {
      "text/plain": [
       "array([[0., 0., 0., ..., 0., 0., 0.],\n",
       "       [0., 0., 0., ..., 0., 0., 0.],\n",
       "       [0., 0., 0., ..., 0., 0., 0.],\n",
       "       ...,\n",
       "       [0., 0., 0., ..., 0., 0., 0.],\n",
       "       [0., 0., 0., ..., 0., 0., 0.],\n",
       "       [0., 0., 0., ..., 0., 0., 0.]])"
      ]
     },
     "execution_count": 2,
     "metadata": {},
     "output_type": "execute_result"
    }
   ],
   "source": [
    "cd = np.load('/oak/stanford/groups/ljerby/SharedResources/Akana2024/Data/A375_cd.npy')\n",
    "cd\n",
    "# the large .npy file has been deleted manually"
   ]
  },
  {
   "cell_type": "code",
   "execution_count": 15,
   "id": "d729d44b",
   "metadata": {},
   "outputs": [
    {
     "name": "stdout",
     "output_type": "stream",
     "text": [
      "  (0, 1011)\t1.0\n",
      "  (0, 1649)\t1.0\n",
      "  (3, 684)\t1.0\n",
      "  (3, 3503)\t1.0\n",
      "  (3, 4658)\t1.0\n",
      "  (3, 4712)\t1.0\n",
      "  (3, 4783)\t1.0\n",
      "  (6, 50)\t1.0\n",
      "  (6, 314)\t1.0\n",
      "  (6, 550)\t1.0\n",
      "  (6, 985)\t1.0\n",
      "  (6, 1072)\t1.0\n",
      "  (6, 1268)\t1.0\n",
      "  (6, 1697)\t1.0\n",
      "  (6, 2511)\t1.0\n",
      "  (6, 3279)\t1.0\n",
      "  (6, 3587)\t1.0\n",
      "  (6, 3604)\t1.0\n",
      "  (6, 3835)\t1.0\n",
      "  (6, 3880)\t1.0\n",
      "  (6, 3910)\t1.0\n",
      "  (6, 3924)\t1.0\n",
      "  (6, 4225)\t1.0\n",
      "  (6, 4246)\t1.0\n",
      "  (6, 4352)\t1.0\n",
      "  :\t:\n",
      "  (36583, 4770)\t1.0\n",
      "  (36583, 4824)\t1.0\n",
      "  (36583, 4854)\t1.0\n",
      "  (36583, 4910)\t1.0\n",
      "  (36583, 4920)\t1.0\n",
      "  (36583, 4942)\t1.0\n",
      "  (36583, 4955)\t1.0\n",
      "  (36583, 5030)\t1.0\n",
      "  (36583, 5057)\t1.0\n",
      "  (36583, 5059)\t1.0\n",
      "  (36583, 5110)\t1.0\n",
      "  (36583, 5132)\t1.0\n",
      "  (36583, 5178)\t1.0\n",
      "  (36583, 5296)\t1.0\n",
      "  (36583, 5397)\t1.0\n",
      "  (36587, 3173)\t1.0\n",
      "  (36588, 4063)\t1.0\n",
      "  (36588, 5285)\t1.0\n",
      "  (36589, 962)\t1.0\n",
      "  (36589, 980)\t1.0\n",
      "  (36589, 1723)\t1.0\n",
      "  (36589, 3907)\t1.0\n",
      "  (36589, 4830)\t1.0\n",
      "  (36589, 4972)\t1.0\n",
      "  (36590, 2301)\t1.0\n"
     ]
    }
   ],
   "source": [
    "cd = csr_array(cd)\n",
    "print(cd)\n",
    "sparse.save_npz('/oak/stanford/groups/ljerby/SharedResources/Akana2024/Data/A375_cd',cd)\n",
    "# sparse format can be more efficient and compact for perturb-seq data\n",
    "# read the data with:\n",
    "# cd = sparse.load_npz('path_to_your_file')\n",
    "# convert to numpy:\n",
    "# cd = cd.toarray()"
   ]
  },
  {
   "cell_type": "code",
   "execution_count": 16,
   "id": "de822374",
   "metadata": {},
   "outputs": [
    {
     "data": {
      "text/plain": [
       "array([[0., 0., 0., ..., 0., 0., 0.],\n",
       "       [0., 0., 0., ..., 0., 0., 0.],\n",
       "       [0., 0., 0., ..., 0., 0., 0.],\n",
       "       ...,\n",
       "       [0., 0., 0., ..., 0., 0., 0.],\n",
       "       [0., 0., 0., ..., 0., 0., 0.],\n",
       "       [0., 0., 0., ..., 0., 0., 0.]])"
      ]
     },
     "execution_count": 16,
     "metadata": {},
     "output_type": "execute_result"
    }
   ],
   "source": [
    "tpm = np.load('/oak/stanford/groups/ljerby/SharedResources/Akana2024/Data/A375_tpm.npy')\n",
    "tpm\n",
    "# the large .npy file has been deleted manually"
   ]
  },
  {
   "cell_type": "code",
   "execution_count": 17,
   "id": "a57f7a90",
   "metadata": {},
   "outputs": [
    {
     "name": "stdout",
     "output_type": "stream",
     "text": [
      "  (0, 1011)\t2.6348996598829344\n",
      "  (0, 1649)\t2.995917397372941\n",
      "  (3, 684)\t2.0935152393546157\n",
      "  (3, 3503)\t3.5431954604045344\n",
      "  (3, 4658)\t1.4147219856578566\n",
      "  (3, 4712)\t4.205229657505018\n",
      "  (3, 4783)\t1.1354143456439154\n",
      "  (6, 50)\t2.9739472350388185\n",
      "  (6, 314)\t2.3590103963767923\n",
      "  (6, 550)\t2.2522369740695347\n",
      "  (6, 985)\t1.7849746629094176\n",
      "  (6, 1072)\t2.448403056228697\n",
      "  (6, 1268)\t2.2468461139169853\n",
      "  (6, 1697)\t3.077324394460756\n",
      "  (6, 2511)\t2.610954857437144\n",
      "  (6, 3279)\t2.9034512884495185\n",
      "  (6, 3587)\t1.2664204171575502\n",
      "  (6, 3604)\t2.822723024979745\n",
      "  (6, 3835)\t1.2294147997947165\n",
      "  (6, 3880)\t1.299285572835204\n",
      "  (6, 3910)\t1.5745545027405572\n",
      "  (6, 3924)\t1.3575245148371655\n",
      "  (6, 4225)\t1.2628879903327286\n",
      "  (6, 4246)\t1.27321304112732\n",
      "  (6, 4352)\t2.0421427924122666\n",
      "  :\t:\n",
      "  (36583, 4770)\t1.5693406518703807\n",
      "  (36583, 4824)\t5.244139989647901\n",
      "  (36583, 4854)\t1.3592173613123864\n",
      "  (36583, 4910)\t3.4527613034997313\n",
      "  (36583, 4920)\t6.528636965521695\n",
      "  (36583, 4942)\t1.5653052964302312\n",
      "  (36583, 4955)\t1.4861209096954575\n",
      "  (36583, 5030)\t3.0118782782673987\n",
      "  (36583, 5057)\t5.201782639354657\n",
      "  (36583, 5059)\t1.660293073164418\n",
      "  (36583, 5110)\t1.6267485334241265\n",
      "  (36583, 5132)\t1.706315140943334\n",
      "  (36583, 5178)\t5.9202757063032925\n",
      "  (36583, 5296)\t1.0577141209763377\n",
      "  (36583, 5397)\t0.9213865542088586\n",
      "  (36587, 3173)\t2.8271721989592877\n",
      "  (36588, 4063)\t1.6589303944460965\n",
      "  (36588, 5285)\t4.747738024957463\n",
      "  (36589, 962)\t2.6412267281189514\n",
      "  (36589, 980)\t2.7380125427178768\n",
      "  (36589, 1723)\t2.445622678144803\n",
      "  (36589, 3907)\t2.3000202515873025\n",
      "  (36589, 4830)\t1.0676707642124503\n",
      "  (36589, 4972)\t1.0220785824286736\n",
      "  (36590, 2301)\t2.4023658519687836\n"
     ]
    }
   ],
   "source": [
    "tpm = csr_array(tpm)\n",
    "print(tpm)\n",
    "sparse.save_npz('/oak/stanford/groups/ljerby/SharedResources/Akana2024/Data/A375_tpm',tpm)\n",
    "# sparse format can be more efficient and compact for perturb-seq data\n",
    "# read the data with:\n",
    "# tpm = sparse.load_npz('path_to_your_file')\n",
    "# convert to numpy:\n",
    "# tpm = tpm.toarray()"
   ]
  },
  {
   "cell_type": "code",
   "execution_count": 20,
   "id": "5c42fb8a",
   "metadata": {
    "scrolled": true
   },
   "outputs": [
    {
     "name": "stdout",
     "output_type": "stream",
     "text": [
      "[['HOXD13']\n",
      " ['PTMA']\n",
      " ['CASP8']\n",
      " ...\n",
      " ['MCL1']\n",
      " ['CCR1']\n",
      " ['NTC']]\n",
      "         id  num     neg.score  neg.p.value   neg.fdr  neg.rank  \\\n",
      "0     STAG2  180  1.135900e-02     0.014511  0.083081       512   \n",
      "1     MYBL1   84  1.441600e-01     0.245300  0.517817      1387   \n",
      "2      PAX2   90  9.623500e-01     0.993250  1.000000      2877   \n",
      "3      JUNB   81  7.315200e-03     0.009347  0.061193       449   \n",
      "4      LIFR   86  9.186800e-02     0.168530  0.434843      1129   \n",
      "...     ...  ...           ...          ...       ...       ...   \n",
      "2914   RHOG   90  2.088400e-03     0.002311  0.022719       299   \n",
      "2915  ITGAV   90  1.602200e-01     0.276870  0.558722      1450   \n",
      "2916  WNT3A   90  1.206800e-12     0.000002  0.000056        20   \n",
      "2917   CRKL   90  1.344300e-10     0.000002  0.000056        27   \n",
      "2918    MYC   90  3.074400e-98     0.000002  0.000056         1   \n",
      "\n",
      "      neg.goodsgrna  neg.lfc     pos.score  pos.p.value  pos.fdr  pos.rank  \\\n",
      "0                34  0.83269  7.557300e-20     0.000002  0.00013         1   \n",
      "1                10  1.48020  4.113500e-19     0.000002  0.00013         2   \n",
      "2                 7  1.22020  2.563800e-18     0.000002  0.00013         3   \n",
      "3                 8  1.23740  3.523700e-17     0.000002  0.00013         4   \n",
      "4                 9  1.15670  3.616300e-17     0.000002  0.00013         5   \n",
      "...             ...      ...           ...          ...      ...       ...   \n",
      "2914             35 -0.45630  9.989000e-01     0.999970  1.00000      2915   \n",
      "2915             26 -0.24306  9.999300e-01     1.000000  1.00000      2916   \n",
      "2916             54 -0.84838  1.000000e+00     1.000000  1.00000      2917   \n",
      "2917             51 -0.69447  1.000000e+00     1.000000  1.00000      2918   \n",
      "2918             87 -5.05440  1.000000e+00     1.000000  1.00000      2919   \n",
      "\n",
      "      pos.goodsgrna  pos.lfc  \n",
      "0                96  0.83269  \n",
      "1                48  1.48020  \n",
      "2                58  1.22020  \n",
      "3                50  1.23740  \n",
      "4                55  1.15670  \n",
      "...             ...      ...  \n",
      "2914              8 -0.45630  \n",
      "2915              4 -0.24306  \n",
      "2916              0 -0.84838  \n",
      "2917              0 -0.69447  \n",
      "2918              0 -5.05440  \n",
      "\n",
      "[2919 rows x 14 columns]\n"
     ]
    }
   ],
   "source": [
    "targets = np.load('/oak/stanford/groups/ljerby/SharedResources/Akana2024/Data/A375_targets.npy',allow_pickle=True)\n",
    "print(targets)\n",
    "labels = pd.read_excel('/oak/stanford/groups/ljerby/SharedResources/Akana2024/Data/CRISPRa_Screen_TCRvsWT_04_26_2023.xlsx')\n",
    "print(labels)"
   ]
  },
  {
   "cell_type": "code",
   "execution_count": 32,
   "id": "f3b885ca",
   "metadata": {},
   "outputs": [
    {
     "name": "stdout",
     "output_type": "stream",
     "text": [
      "['HOXD13' 'PTMA' 'CASP8' ... 'MCL1' 'CCR1' 'NTC']\n",
      "['APP' 'B2M' 'BAK1' 'BCL2A1' 'BCL2L1' 'BID' 'BTG2' 'CASP8' 'CCL22' 'CCNE2'\n",
      " 'CCR1' 'CD274' 'CD40' 'CD40LG' 'CD44' 'CIC' 'COL1A1' 'CTAG1A' 'CTNND2'\n",
      " 'DLL1' 'DLL4' 'DUSP9' 'E2F1' 'ETV6' 'FAS' 'FOSB' 'GAS6' 'GSPT2' 'HGF'\n",
      " 'HNF4A' 'HOXD13' 'IFNB1' 'IL15' 'IRF1' 'IRS4' 'JUN' 'JUNB' 'KIAA0368'\n",
      " 'KLF4' 'LIFR' 'MCL1' 'MLLT3' 'MYC' 'NCAM1' 'NIPBL' 'NTC' 'PAX2' 'PDPN'\n",
      " 'PRDM16' 'PTMA' 'SAFB' 'STAG2' 'TBX5' 'TCF7L2' 'TNC' 'TP73' 'TRPS1'\n",
      " 'TSPYL2' 'VIM' 'WNT1' 'WNT3' 'WNT3A']\n",
      "['A4GALT', 'ABCA13', 'ABCA4', 'ABCA5', 'ACADM', 'ACSL6', 'ACTL6B', 'ACTR3', 'ACYP1', 'ADAMTS12', 'ADAMTSL5', 'ADCY3', 'ADCY5', 'ADCY6', 'ADCY9', 'ADM2', 'AFAP1L2', 'AFF4', 'AHR', 'AICDA', 'AIM1', 'AKAP2', 'AKR1C2', 'AKR1D1', 'ALCAM', 'ALDH2', 'ALDH7A1', 'ALS2', 'AMD1', 'AMPD1', 'ANAPC4', 'ANP32B', 'APBB2', 'APC', 'APC2', 'APLF', 'APOBEC3A', 'APP', 'ARGLU1', 'ARHGEF12', 'ARHGEF7', 'ARID1A', 'ARL2BP', 'ATG4A', 'ATP13A1', 'ATP6V1G3', 'ATRX', 'BAK1', 'BCAR1', 'BCAS3', 'BCAT1', 'BCL11A', 'BCL11B', 'BCL7A', 'BDNF', 'BID', 'BIK', 'BIN3', 'BMP2', 'BOK', 'BRD1', 'BRINP1', 'C10orf90', 'C11orf30', 'C19orf33', 'C1QL1', 'C1QTNF9', 'C1orf159', 'C22orf29', 'CAB39', 'CABLES2', 'CACNA2D3', 'CADM1', 'CAMK2N2', 'CARD17', 'CARM1', 'CASC5', 'CASP3', 'CASP8', 'CBX4', 'CCDC103', 'CCDC176', 'CCKBR', 'CCL2', 'CCL22', 'CCNA2', 'CCNB1', 'CCND1', 'CCND2', 'CCND3', 'CCNE2', 'CCNF', 'CCNJ', 'CCNL1', 'CCNO', 'CCR1', 'CCZ1B', 'CD40', 'CD70', 'CD99', 'CDAN1', 'CDC123', 'CDC20', 'CDC23', 'CDC34', 'CDC73', 'CDX2', 'CEBPA', 'CEBPB', 'CEBPG', 'CEP152', 'CEP192', 'CEP41', 'CEP68', 'CEP70', 'CHAF1A', 'CHD8', 'CHD9', 'CHL1', 'CHST1', 'CHSY3', 'CIC', 'CITED2', 'CLASRP', 'CLIC2', 'CNOT6L', 'CNP', 'CNTN3', 'CNTN4', 'COCH', 'COL11A1', 'COL3A1', 'COL4A2', 'COL5A1', 'CORO6', 'COX6B1', 'CPAMD8', 'CREB1', 'CRISPLD1', 'CRKL', 'CRTC1', 'CSF2', 'CSGALNACT2', 'CSPP1', 'CST3', 'CST7', 'CST8', 'CSTB', 'CTAG1A', 'CTBP1', 'CTBP2', 'CTNNA1', 'CTNND2', 'CUL1', 'CUL2', 'CUX1', 'CXCR4', 'CYLD', 'CYP1A1', 'CYP1B1', 'CYP2A7', 'CYP2J2', 'DAB2', 'DCC', 'DCLRE1A', 'DCTN2', 'DDB2', 'DDO', 'DDX18', 'DDX23', 'DDX6', 'DEK', 'DENND4A', 'DES', 'DFFB', 'DIP2C', 'DIRAS1', 'DKK1', 'DKK3', 'DLC1', 'DLEC1', 'DLL1', 'DLL4', 'DLST', 'DNAH8', 'DNM1', 'DNMT3B', 'DOCK1', 'DTX1', 'DTX3L', 'DUSP1', 'DUSP4', 'DUSP9', 'E2F4', 'E2F5', 'E2F7', 'ECM2', 'ECT2', 'EDNRA', 'EEF1A1', 'EFCAB2', 'EHMT1', 'ELF1', 'ELK3', 'ELK4', 'ELN', 'ENTPD5', 'EPC2', 'ERBB2IP', 'ERC1', 'ERCC5', 'ERCC8', 'EREG', 'ESPL1', 'ETS1', 'ETS2', 'ETV1', 'ETV4', 'ETV5', 'EVI5', 'EWSR1', 'EYA2', 'FAM110A', 'FAM118A', 'FAM161A', 'FAM220A', 'FAM46D', 'FAM76B', 'FANCB', 'FANCD2', 'FAS', 'FBLN1', 'FBLN5', 'FBXL20', 'FCGR2A', 'FEZ1', 'FKBP1A', 'FLI1', 'FLNA', 'FN1', 'FNBP1', 'FOSB', 'FOSL1', 'FOXC1', 'FOXG1', 'FOXN3', 'FPGT', 'FRY', 'FSTL3', 'FUT1', 'FUT9', 'FZR1', 'GABARAPL2', 'GALNT10', 'GALNT4', 'GALNT6', 'GAS1', 'GAS2L2', 'GAS2L3', 'GATA1', 'GATA4', 'GATA6', 'GBE1', 'GDF6', 'GH1', 'GINS1', 'GLRX3', 'GLTSCR1', 'GMNN', 'GMPS', 'GNA12', 'GNB2', 'GNL1', 'GPR132', 'GRB10', 'GRB2', 'GRHPR', 'GRIA4', 'GRIN2B', 'GRM3', 'GRP', 'GSE1', 'GSTM2', 'GSTP1', 'GUCY1A2', 'HADHB', 'HAGHL', 'HAS3', 'HBA2', 'HDAC3', 'HDAC4', 'HDAC5', 'HDAC7', 'HDAC9', 'HEPH', 'HEYL', 'HIC1', 'HIP1', 'HIST1H4I', 'HLA-F', 'HMGB1', 'HNF1A', 'HNRNPA2B1', 'HOXC11', 'HOXC13', 'HOXD11', 'HPSE2', 'HRK', 'HTATIP2', 'ICAM1', 'ID1', 'IDI1', 'IDI2', 'IER5L', 'IFI16', 'IFNA2', 'IFNB1', 'IFNG', 'IGF2BP1', 'IKZF3', 'IL10', 'IL12A', 'IL13', 'IL15', 'IL17B', 'IL1R1', 'IL2RA', 'INMT', 'IPMK', 'IRF1', 'IRS2', 'IRS4', 'JAG2', 'JMY', 'JUNB', 'JUP', 'KAT6A', 'KATNB1', 'KCNIP1', 'KDELR2', 'KEAP1', 'KHDRBS1', 'KIAA1009', 'KIF11', 'KIF14', 'KIF2C', 'KITLG', 'KLHL4', 'KNSTRN', 'KRAS', 'L3HYPDH', 'L3MBTL4', 'LAMB1', 'LAMC1', 'LAMTOR5', 'LANCL2', 'LDHB', 'LIG3', 'LIG4', 'LIN9', 'LMLN', 'LMNB2', 'LMO2', 'LMX1A', 'LOXL2', 'LPHN3', 'LRP5', 'LRRC16A', 'LSM14A', 'LYL1', 'MACROD2', 'MADCAM1', 'MAEA', 'MAF', 'MAFB', 'MAFF', 'MAGEH1', 'MAN2B2', 'MAP2', 'MAP9', 'MAPRE1', 'MBP', 'MCAT', 'MCM8', 'MCPH1', 'MDH1', 'MDH2', 'MDK', 'MECOM', 'MGA', 'MGAT4A', 'MIF', 'MITF', 'MKI67', 'MLH1', 'MLLT1', 'MLLT4', 'MMP15', 'MMP9', 'MMS19', 'MNT', 'MNX1', 'MOB3A', 'MOB3C', 'MOB4', 'MOG', 'MPG', 'MPL', 'MPO', 'MPPED2', 'MRPL41', 'MRPS26', 'MSI2', 'MSLN', 'MST1', 'MT2A', 'MTCP1', 'MTHFR', 'MTSS1', 'MUC1', 'MX1', 'MYC', 'MYH9', 'MYO6', 'N4BP2L1', 'NAA10', 'NAMPT', 'NAP1L2', 'NCAPG', 'NCAPH2', 'NCDN', 'NCF1', 'NCL', 'NDRG2', 'NEU3', 'NGFRAP1', 'NIPBL', 'NKX3-2', 'NLRP3', 'NLRP4', 'NMRK1', 'NOD1', 'NOS3', 'NOTCH3', 'NPAP1', 'NPM1', 'NR0B1', 'NR2F2', 'NR2F6', 'NR4A2', 'NR4A3', 'NSD1', 'NSMCE2', 'NT5C1A', 'NTAN1', 'NUDC', 'NUDCD3', 'NUMA1', 'NUP214', 'NUP54', 'NUSAP1', 'NYX', 'OCRL', 'ODF2', 'OVGP1', 'PAFAH1B2', 'PALB2', 'PALM2-AKAP2', 'PAPD5', 'PARD6A', 'PARD6G', 'PARP1', 'PAX3', 'PAX7', 'PAX8', 'PAXIP1', 'PCBP1', 'PCBP4', 'PCCA', 'PCOLCE2', 'PCSK6', 'PCSK7', 'PDCD4', 'PDE4D', 'PDE5A', 'PDE6D', 'PDGFD', 'PDS5A', 'PDS5B', 'PEA15', 'PEG3', 'PELP1', 'PER1', 'PES1', 'PGAP2', 'PGRMC2', 'PHB', 'PHIP', 'PHOX2B', 'PICALM', 'PIGN', 'PLA2G5', 'PLCD1', 'PLCG1', 'PLCG2', 'PMAIP1', 'PML', 'PMM1', 'PNN', 'PNPLA3', 'POFUT1', 'POLD4', 'POLE', 'POLE4', 'POLR1C', 'POLR2C', 'POLR3A', 'POPDC3', 'POU5F1', 'PPARA', 'PPARGC1A', 'PPARGC1B', 'PPM1J', 'PPP2R3C', 'PPP4R2', 'PRAME', 'PRC1', 'PRCC', 'PRDM16', 'PRIM2', 'PRMT1', 'PRMT2', 'PROP1', 'PRPS2', 'PRR16', 'PSEN1', 'PTCH2', 'PTCRA', 'PTMA', 'PUM2', 'PYCARD', 'PYGB', 'PZP', 'QKI', 'RAB15', 'RAB38', 'RAC1', 'RAD18', 'RAD23B', 'RAD50', 'RAD9B', 'RADIL', 'RANBP17', 'RAP1A', 'RAP1GDS1', 'RASSF5', 'RB1', 'RBL1', 'RBM5', 'RBX1', 'RCBTB1', 'RCC2', 'RDH11', 'REC8', 'RELA', 'RELB', 'REV1', 'RFC4', 'RGAG4', 'RHOG', 'RICTOR', 'RNF213', 'ROBO2', 'RORB', 'RPE', 'RPN1', 'RPRM', 'RPTOR', 'RRM2B', 'RSPH10B', 'RUVBL1', 'SAFB', 'SDC1', 'SDCCAG8', 'SELO', 'SEMA3C', 'SEPT11', 'SEPT2', 'SEPT4', 'SEPT5', 'SERPINB9', 'SESN3', 'SET', 'SFRP1', 'SFRP2', 'SFRP5', 'SH2D1A', 'SH3BP4', 'SH3GL2', 'SHANK1', 'SIPA1', 'SIRT2', 'SIX4', 'SLC2A3', 'SLFN11', 'SMAD2', 'SMAD3', 'SMAD6', 'SMAD7', 'SMC1A', 'SMC2', 'SMC3', 'SMC4', 'SMC5', 'SMOC1', 'SMYD2', 'SNAI3', 'SNCG', 'SOCS2', 'SON', 'SOX11', 'SP1', 'SPC25', 'SPDYA', 'SPEN', 'SPIN1', 'SPINT2', 'SPRY2', 'SRM', 'SRRM3', 'SRSF3', 'ST6GAL1', 'STAG2', 'STARD8', 'STAT5A', 'STAT5B', 'STEAP3', 'STIL', 'STRN3', 'SULF1', 'SZT2', 'TAC1', 'TACC2', 'TAF10', 'TAF15', 'TAF7', 'TAL1', 'TAL2', 'TAP2', 'TBX22', 'TCF12', 'TCF7L2', 'TFAM', 'TFAP2A', 'TFDP2', 'TFE3', 'TFPT', 'TGFB1', 'TGFBI', 'TGM3', 'THRB', 'TIA1', 'TLE1', 'TLN1', 'TLX1', 'TLX3', 'TMEM123', 'TMEM57', 'TMPRSS2', 'TMSB15B', 'TNC', 'TNF', 'TNFRSF10A', 'TNFRSF19', 'TNFRSF1A', 'TNFRSF1B', 'TNFRSF8', 'TNFSF9', 'TOP1', 'TOP2B', 'TOPBP1', 'TP53BP2', 'TP73', 'TPD52L2', 'TRAF1', 'TREX1', 'TRIAP1', 'TRIM13', 'TRPS1', 'TSC2', 'TSC22D4', 'TSPYL2', 'TTC38', 'TTL', 'TTLL5', 'TUBA1A', 'TUBA1C', 'TUBD1', 'TUBGCP6', 'TUSC3', 'TWIST1', 'TXLNG', 'TXNIP', 'TXNRD2', 'TYMP', 'UBR5', 'UXT', 'VDR', 'VIM', 'VPS13B', 'WASF3', 'WDR37', 'WHSC1', 'WHSC1L1', 'WIF1', 'WNT1', 'WNT2B', 'WNT3', 'WNT3A', 'WNT4', 'WNT6', 'WSCD1', 'WT1', 'WWOX', 'XPA', 'XRCC6', 'YLPM1', 'YWHAQ', 'YWHAZ', 'ZBTB16', 'ZEB1', 'ZEB2', 'ZFPM2', 'ZMYM2', 'ZMYM3', 'ZNF24', 'ZNF324B', 'ZNF830']\n",
      "['A4GALT', 'ABCA3', 'ABCA7', 'AFF1', 'AFF3', 'AGAP2', 'AHNAK', 'AKR1C1', 'ALDH6A1', 'ALOX15B', 'ANAPC1', 'ANAPC10', 'ANAPC2', 'ANAPC5', 'APOBEC3A', 'AR', 'ARHGAP11A', 'ARHGAP25', 'ARHGEF25', 'ARHGEF40', 'ARID1A', 'ARL9', 'ASPM', 'ATP6V1D', 'ATP6V1G1', 'ATP6V1G3', 'B3GNT7', 'BBS4', 'BCL11B', 'BCL2', 'BCL2A1', 'BCL2L1', 'BCL2L14', 'BCL3', 'BCL6', 'BCL7A', 'BCMO1', 'BIRC5', 'BRINP1', 'BTG1', 'BTG2', 'C19orf60', 'CAB39', 'CABLES1', 'CACNA1F', 'CAD', 'CADM1', 'CARD10', 'CASC5', 'CBX4', 'CCDC6', 'CCL21', 'CCNA1', 'CCNJ', 'CCNK', 'CCNL1', 'CD109', 'CD2AP', 'CD36', 'CD40', 'CD44', 'CD79A', 'CDC20', 'CDC37L1', 'CDCA8', 'CDX2', 'CENPI', 'CEP68', 'CHPF', 'CKAP2', 'CLASP1', 'CLASP2', 'CLDN3', 'CLDN5', 'CLYBL', 'COL1A1', 'COL4A4', 'COL9A3', 'CPNE8', 'CREBBP', 'CTNNA3', 'CUL3', 'CUX1', 'CXCL14', 'CXCL5', 'CYP24A1', 'CYP2A13', 'CYP3A4', 'DAB2IP', 'DCAF12L1', 'DCN', 'DENND2A', 'DERA', 'DIAPH2', 'DMC1', 'DPYD', 'DUSP4', 'DUSP9', 'DYNLL1', 'E2F1', 'E2F7', 'EDA2R', 'EEF1A1', 'EGFL6', 'EID1', 'ELF1', 'ELF4', 'ELL', 'EMP1', 'EMP2', 'ENO2', 'EP300', 'ETV6', 'EXO1', 'FADD', 'FAM127C', 'FAM53B', 'FANCG', 'FASN', 'FCGBP', 'FCGR2A', 'FEV', 'FHL2', 'FLI1', 'FOSB', 'FOXO4', 'FSTL5', 'FUT3', 'FXR1', 'G6PD', 'GADD45G', 'GANAB', 'GAS2', 'GCLC', 'GFAP', 'GFI1', 'GFRAL', 'GINS1', 'GLG1', 'GLT1D1', 'GNAS', 'GRAP2', 'GRB10', 'GSPT2', 'GSTA1', 'GTF2H1', 'GTF2H5', 'GTPBP4', 'H2AFY', 'H3F3A', 'HAPLN1', 'HBP1', 'HELLS', 'HGF', 'HIP1', 'HLA-DQA1', 'HMGA1', 'HMGB2', 'HN1', 'HNF1A', 'HNF4A', 'HNRNPA0', 'HNRNPA2B1', 'HOOK1', 'HOXA13', 'HOXC13', 'HOXD13', 'HSD17B1', 'IDH1', 'IER3', 'IFI16', 'IGFALS', 'IGFBP6', 'IKZF1', 'IKZF3', 'IL13', 'IL17A', 'JAZF1', 'JUN', 'JUNB', 'JUND', 'KANK1', 'KDM5B', 'KDM6B', 'KIAA0226L', 'KIAA0368', 'KIF2C', 'KIFC1', 'KIN', 'KLF4', 'L1CAM', 'LAMA1', 'LAMB4', 'LIFR', 'LMO1', 'LMO7', 'LPHN3', 'LRP5', 'LRP6', 'LZTS1', 'LZTS2', 'MAD2L2', 'MAF', 'MAGEA1', 'MAGI1', 'MAPRE1', 'MBD2', 'MCL1', 'MCM3AP', 'MECOM', 'MIF', 'MLLT11', 'MLLT3', 'MNX1', 'MSN', 'MUC1', 'MUM1L1', 'MYBL1', 'MYH11', 'MYH9', 'MYO18B', 'NCAM1', 'NCDN', 'NDUFA13', 'NFKB2', 'NGFRAP1', 'NHEJ1', 'NIN', 'NLRP10', 'NONO', 'NOS1', 'NOS3', 'NR2F1', 'NR2F2', 'NRP1', 'NTNG1', 'NUMA1', 'NUP133', 'NUP153', 'NUSAP1', 'OLIG2', 'OSM', 'PAPSS2', 'PARP1', 'PAX2', 'PAX8', 'PAXIP1', 'PDE4A', 'PDGFRL', 'PDPN', 'PEA15', 'PF4', 'PHLDA2', 'PIGS', 'PLA2G2A', 'PLAGL1', 'PLCE1', 'PLCG2', 'PLD1', 'PLD2', 'PLXNB3', 'PMF1', 'PMP22', 'PNMA5', 'POLH', 'POLR2D', 'POLR2G', 'POLR3B', 'POLR3F', 'PPARG', 'PPP2R5D', 'PRMT5', 'PRPS1', 'PRRC2A', 'PSCA', 'PSIP1', 'PYCARD', 'PZP', 'QKI', 'RAB7L1', 'RACGAP1', 'RAD23A', 'RAD23B', 'RAI2', 'RANBP1', 'RANBP9', 'RARB', 'RASA3', 'RASSF4', 'RBPJ', 'RGAG4', 'RIF1', 'RIT2', 'RNF19A', 'RNF2', 'RNF8', 'RRM1', 'RRM2', 'RUNX1', 'RUNX3', 'SATL1', 'SBNO2', 'SCAP', 'SCGB2A1', 'SDC1', 'SDC2', 'SDHC', 'SDHD', 'SEPT1', 'SEPT10', 'SFPQ', 'SGMS2', 'SGPP2', 'SIAH1', 'SIRT1', 'SLC7A5', 'SMAD6', 'SNAI1', 'SNCG', 'SOCS1', 'SOX2', 'SPIN2A', 'SS18', 'ST3GAL1', 'STAG1', 'STAG2', 'STAT1', 'STIL', 'SULT1E1', 'SYCP1', 'TARBP2', 'TBX5', 'TCF12', 'TCF3', 'TCF7L2', 'TEX29', 'TEX30', 'TGDS', 'THBD', 'THEMIS2', 'THRB', 'TIMM23B', 'TMED8', 'TNFRSF10A', 'TNFRSF10B', 'TNFRSF12A', 'TNFSF4', 'TNKS2', 'TOPORS', 'TP53', 'TP53BP1', 'TP73', 'TREX2', 'TRIP11', 'TSC1', 'TSC2', 'TUBGCP3', 'TXNIP', 'UACA', 'UBR5', 'UGT8', 'VEGFB', 'VEGFC', 'VWA5A', 'WT1', 'XDH', 'XPC', 'XRCC2', 'XRCC5', 'YWHAQ', 'ZEB2', 'ZMYM2', 'ZNF384', 'ZWILCH', 'ZWINT']\n"
     ]
    }
   ],
   "source": [
    "targets = targets.squeeze()\n",
    "print(targets)\n",
    "print(np.unique(targets))\n",
    "sens = labels[labels['neg.p.value']<=0.05]['id'].tolist()\n",
    "print(sorted(sens))\n",
    "resis = labels[labels['pos.p.value']<=0.05]['id'].tolist()\n",
    "print(sorted(resis))"
   ]
  },
  {
   "cell_type": "code",
   "execution_count": 46,
   "id": "16668eca",
   "metadata": {},
   "outputs": [
    {
     "name": "stdout",
     "output_type": "stream",
     "text": [
      "['APP'] [6.612e-05] [0.96325]\n",
      "B2M\n",
      "['BAK1'] [1.6954e-06] [0.93994]\n",
      "['BCL2A1'] [0.99968] [1.6954e-06]\n",
      "['BCL2L1'] [0.99655] [0.047869]\n",
      "['BID'] [1.6954e-06] [0.62507]\n",
      "['BTG2'] [0.45342] [1.6954e-06]\n",
      "['CASP8'] [1.6954e-06] [0.92587]\n",
      "['CCL22'] [1.6954e-06] [0.77728]\n",
      "['CCNE2'] [1.6954e-06] [0.1734]\n",
      "['CCR1'] [0.001219] [0.4403]\n",
      "CD274\n",
      "['CD40'] [0.0094992] [0.0050471]\n",
      "['CD40LG'] [0.24535] [0.57468]\n",
      "['CD44'] [0.99999] [1.6954e-06]\n",
      "['CIC'] [5.0861e-06] [0.96928]\n",
      "['COL1A1'] [0.39432] [1.6954e-06]\n",
      "['CTAG1A'] [1.6954e-06] [0.49514]\n",
      "['CTNND2'] [4.9166e-05] [0.080434]\n",
      "['DLL1'] [0.0062508] [0.28937]\n",
      "['DLL4'] [1.6954e-06] [0.53397]\n",
      "['DUSP9'] [0.0012359] [1.6954e-06]\n",
      "['E2F1'] [0.065036] [0.0003679]\n",
      "['ETV6'] [0.83948] [1.6954e-06]\n",
      "['FAS'] [1.6954e-06] [0.9733]\n",
      "['FOSB'] [0.027731] [1.6954e-06]\n",
      "['GAS6'] [0.079827] [0.64897]\n",
      "['GSPT2'] [0.73442] [1.6954e-06]\n",
      "['HGF'] [0.10687] [1.6954e-06]\n",
      "['HNF4A'] [0.55564] [1.6954e-06]\n",
      "['HOXD13'] [0.24993] [1.6954e-06]\n",
      "['IFNB1'] [1.6954e-06] [0.66442]\n",
      "['IL15'] [8.4769e-06] [0.69043]\n",
      "['IRF1'] [1.6954e-06] [0.22294]\n",
      "['IRS4'] [1.6954e-06] [0.93248]\n",
      "['JUN'] [0.67775] [1.6954e-06]\n",
      "['JUNB'] [0.0093466] [1.6954e-06]\n",
      "['KIAA0368'] [0.95319] [1.6954e-06]\n",
      "['KLF4'] [0.36518] [1.6954e-06]\n",
      "['LIFR'] [0.16853] [1.6954e-06]\n",
      "['MCL1'] [0.89006] [1.6954e-06]\n",
      "['MLLT3'] [0.2192] [1.6954e-06]\n",
      "['MYC'] [1.6954e-06] [1.]\n",
      "['NCAM1'] [0.99763] [8.4769e-06]\n",
      "['NIPBL'] [1.6954e-06] [0.97373]\n",
      "NTC\n",
      "['PAX2'] [0.99325] [1.6954e-06]\n",
      "['PDPN'] [0.85254] [1.6954e-06]\n",
      "['PRDM16'] [1.6954e-06] [0.47786]\n",
      "['PTMA'] [1.6954e-06] [0.67351]\n",
      "['SAFB'] [1.6954e-06] [0.9984]\n",
      "['STAG2'] [0.014511] [1.6954e-06]\n",
      "['TBX5'] [0.092949] [1.6954e-06]\n",
      "['TCF7L2'] [0.00041537] [1.6954e-06]\n",
      "['TNC'] [1.6954e-06] [0.90205]\n",
      "['TP73'] [1.6954e-06] [1.1868e-05]\n",
      "['TRPS1'] [1.6954e-06] [0.55493]\n",
      "['TSPYL2'] [1.6954e-06] [0.68288]\n",
      "['VIM'] [1.6954e-06] [0.80591]\n",
      "['WNT1'] [1.1868e-05] [0.7614]\n",
      "['WNT3'] [0.0033212] [0.85042]\n",
      "['WNT3A'] [1.6954e-06] [1.]\n"
     ]
    }
   ],
   "source": [
    "hold_in = []\n",
    "hold_out = []\n",
    "for gene in np.unique(targets):\n",
    "    idx = labels['id']==gene\n",
    "    if len(labels[idx]) > 0: \n",
    "        print(labels[idx]['id'].to_numpy(), labels[idx]['neg.p.value'].to_numpy(), labels[idx]['pos.p.value'].to_numpy())\n",
    "        if np.random.rand() >= 0.05:\n",
    "            hold_in.append(gene)\n",
    "        else:\n",
    "            hold_out.append(gene)\n",
    "    else:\n",
    "        print(gene)\n",
    "        hold_out.append(gene)"
   ]
  },
  {
   "cell_type": "code",
   "execution_count": 47,
   "id": "3c4f9f23",
   "metadata": {},
   "outputs": [
    {
     "name": "stdout",
     "output_type": "stream",
     "text": [
      "['APP', 'BAK1', 'BCL2A1', 'BCL2L1', 'BID', 'BTG2', 'CASP8', 'CCL22', 'CCNE2', 'CCR1', 'CD40', 'CD40LG', 'CD44', 'CIC', 'COL1A1', 'CTAG1A', 'CTNND2', 'DLL1', 'DLL4', 'DUSP9', 'E2F1', 'ETV6', 'FAS', 'FOSB', 'GAS6', 'GSPT2', 'HGF', 'HNF4A', 'HOXD13', 'IFNB1', 'IL15', 'IRF1', 'IRS4', 'JUN', 'JUNB', 'KIAA0368', 'LIFR', 'MCL1', 'MLLT3', 'MYC', 'NCAM1', 'NIPBL', 'PAX2', 'PDPN', 'PRDM16', 'PTMA', 'SAFB', 'STAG2', 'TBX5', 'TCF7L2', 'TNC', 'TP73', 'TSPYL2', 'VIM', 'WNT1', 'WNT3', 'WNT3A']\n",
      "['B2M', 'CD274', 'KLF4', 'NTC', 'TRPS1']\n"
     ]
    }
   ],
   "source": [
    "print(hold_in)\n",
    "print(hold_out)"
   ]
  },
  {
   "cell_type": "code",
   "execution_count": 60,
   "id": "fe396ebc",
   "metadata": {},
   "outputs": [
    {
     "name": "stdout",
     "output_type": "stream",
     "text": [
      "3866\n",
      "1582\n",
      "5448\n"
     ]
    }
   ],
   "source": [
    "te_ids = []\n",
    "tr_ids = []\n",
    "for i in range(len(targets)):\n",
    "    gene = targets[i]\n",
    "    if gene in hold_out:\n",
    "        te_ids.append(i)\n",
    "    elif gene in hold_in:\n",
    "        if np.random.rand() >= 0.1:\n",
    "            tr_ids.append(i)\n",
    "        else:\n",
    "            te_ids.append(i)\n",
    "            te_ids_in.append(i)\n",
    "print(len(tr_ids))\n",
    "print(len(te_ids))\n",
    "print(len(targets))"
   ]
  },
  {
   "cell_type": "code",
   "execution_count": 62,
   "id": "3c8450c5",
   "metadata": {},
   "outputs": [
    {
     "name": "stdout",
     "output_type": "stream",
     "text": [
      "['APP'] [6.612e-05] [0.96325]\n",
      "['BAK1'] [1.6954e-06] [0.93994]\n",
      "['BCL2A1'] [0.99968] [1.6954e-06]\n",
      "['BCL2L1'] [0.99655] [0.047869]\n",
      "['BID'] [1.6954e-06] [0.62507]\n",
      "['BTG2'] [0.45342] [1.6954e-06]\n",
      "['CASP8'] [1.6954e-06] [0.92587]\n",
      "['CCL22'] [1.6954e-06] [0.77728]\n",
      "['CCNE2'] [1.6954e-06] [0.1734]\n",
      "['CCR1'] [0.001219] [0.4403]\n",
      "['CD40'] [0.0094992] [0.0050471]\n",
      "['CD40LG'] [0.24535] [0.57468]\n",
      "['CD44'] [0.99999] [1.6954e-06]\n",
      "['CIC'] [5.0861e-06] [0.96928]\n",
      "['COL1A1'] [0.39432] [1.6954e-06]\n",
      "['CTAG1A'] [1.6954e-06] [0.49514]\n",
      "['CTNND2'] [4.9166e-05] [0.080434]\n",
      "['DLL1'] [0.0062508] [0.28937]\n",
      "['DLL4'] [1.6954e-06] [0.53397]\n",
      "['DUSP9'] [0.0012359] [1.6954e-06]\n",
      "['E2F1'] [0.065036] [0.0003679]\n",
      "['ETV6'] [0.83948] [1.6954e-06]\n",
      "['FAS'] [1.6954e-06] [0.9733]\n",
      "['FOSB'] [0.027731] [1.6954e-06]\n",
      "['GAS6'] [0.079827] [0.64897]\n",
      "['GSPT2'] [0.73442] [1.6954e-06]\n",
      "['HGF'] [0.10687] [1.6954e-06]\n",
      "['HNF4A'] [0.55564] [1.6954e-06]\n",
      "['HOXD13'] [0.24993] [1.6954e-06]\n",
      "['IFNB1'] [1.6954e-06] [0.66442]\n",
      "['IL15'] [8.4769e-06] [0.69043]\n",
      "['IRF1'] [1.6954e-06] [0.22294]\n",
      "['IRS4'] [1.6954e-06] [0.93248]\n",
      "['JUN'] [0.67775] [1.6954e-06]\n",
      "['JUNB'] [0.0093466] [1.6954e-06]\n",
      "['KIAA0368'] [0.95319] [1.6954e-06]\n",
      "['KLF4'] [0.36518] [1.6954e-06]\n",
      "['LIFR'] [0.16853] [1.6954e-06]\n",
      "['MCL1'] [0.89006] [1.6954e-06]\n",
      "['MLLT3'] [0.2192] [1.6954e-06]\n",
      "['MYC'] [1.6954e-06] [1.]\n",
      "['NCAM1'] [0.99763] [8.4769e-06]\n",
      "['NIPBL'] [1.6954e-06] [0.97373]\n",
      "['PAX2'] [0.99325] [1.6954e-06]\n",
      "['PDPN'] [0.85254] [1.6954e-06]\n",
      "['PRDM16'] [1.6954e-06] [0.47786]\n",
      "['PTMA'] [1.6954e-06] [0.67351]\n",
      "['SAFB'] [1.6954e-06] [0.9984]\n",
      "['STAG2'] [0.014511] [1.6954e-06]\n",
      "['TBX5'] [0.092949] [1.6954e-06]\n",
      "['TCF7L2'] [0.00041537] [1.6954e-06]\n",
      "['TNC'] [1.6954e-06] [0.90205]\n",
      "['TP73'] [1.6954e-06] [1.1868e-05]\n",
      "['TRPS1'] [1.6954e-06] [0.55493]\n",
      "['TSPYL2'] [1.6954e-06] [0.68288]\n",
      "['VIM'] [1.6954e-06] [0.80591]\n",
      "['WNT1'] [1.1868e-05] [0.7614]\n",
      "['WNT3'] [0.0033212] [0.85042]\n",
      "['WNT3A'] [1.6954e-06] [1.]\n",
      "{'APP': [6.612e-05, 0.96325], 'BAK1': [1.6954e-06, 0.93994], 'BCL2A1': [0.99968, 1.6954e-06], 'BCL2L1': [0.99655, 0.047869], 'BID': [1.6954e-06, 0.62507], 'BTG2': [0.45342, 1.6954e-06], 'CASP8': [1.6954e-06, 0.92587], 'CCL22': [1.6954e-06, 0.77728], 'CCNE2': [1.6954e-06, 0.1734], 'CCR1': [0.001219, 0.4403], 'CD40': [0.0094992, 0.0050471], 'CD40LG': [0.24535, 0.57468], 'CD44': [0.99999, 1.6954e-06], 'CIC': [5.0861e-06, 0.96928], 'COL1A1': [0.39432, 1.6954e-06], 'CTAG1A': [1.6954e-06, 0.49514], 'CTNND2': [4.9166e-05, 0.080434], 'DLL1': [0.0062508, 0.28937], 'DLL4': [1.6954e-06, 0.53397], 'DUSP9': [0.0012359, 1.6954e-06], 'E2F1': [0.065036, 0.0003679], 'ETV6': [0.83948, 1.6954e-06], 'FAS': [1.6954e-06, 0.9733], 'FOSB': [0.027731, 1.6954e-06], 'GAS6': [0.079827, 0.64897], 'GSPT2': [0.73442, 1.6954e-06], 'HGF': [0.10687, 1.6954e-06], 'HNF4A': [0.55564, 1.6954e-06], 'HOXD13': [0.24993, 1.6954e-06], 'IFNB1': [1.6954e-06, 0.66442], 'IL15': [8.4769e-06, 0.69043], 'IRF1': [1.6954e-06, 0.22294], 'IRS4': [1.6954e-06, 0.93248], 'JUN': [0.67775, 1.6954e-06], 'JUNB': [0.0093466, 1.6954e-06], 'KIAA0368': [0.95319, 1.6954e-06], 'KLF4': [0.36518, 1.6954e-06], 'LIFR': [0.16853, 1.6954e-06], 'MCL1': [0.89006, 1.6954e-06], 'MLLT3': [0.2192, 1.6954e-06], 'MYC': [1.6954e-06, 1.0], 'NCAM1': [0.99763, 8.4769e-06], 'NIPBL': [1.6954e-06, 0.97373], 'PAX2': [0.99325, 1.6954e-06], 'PDPN': [0.85254, 1.6954e-06], 'PRDM16': [1.6954e-06, 0.47786], 'PTMA': [1.6954e-06, 0.67351], 'SAFB': [1.6954e-06, 0.9984], 'STAG2': [0.014511, 1.6954e-06], 'TBX5': [0.092949, 1.6954e-06], 'TCF7L2': [0.00041537, 1.6954e-06], 'TNC': [1.6954e-06, 0.90205], 'TP73': [1.6954e-06, 1.1868e-05], 'TRPS1': [1.6954e-06, 0.55493], 'TSPYL2': [1.6954e-06, 0.68288], 'VIM': [1.6954e-06, 0.80591], 'WNT1': [1.1868e-05, 0.7614], 'WNT3': [0.0033212, 0.85042], 'WNT3A': [1.6954e-06, 1.0]}\n"
     ]
    }
   ],
   "source": [
    "pvalue_dict = {}\n",
    "for gene in np.unique(targets):\n",
    "    idx = labels['id']==gene\n",
    "    if len(labels[idx]) > 0: \n",
    "        print(labels[idx]['id'].to_numpy(), labels[idx]['neg.p.value'].to_numpy(), labels[idx]['pos.p.value'].to_numpy())\n",
    "        pvalue_dict[gene] = [labels[idx]['neg.p.value'].to_numpy()[0], labels[idx]['pos.p.value'].to_numpy()[0]]\n",
    "print(pvalue_dict)"
   ]
  },
  {
   "cell_type": "code",
   "execution_count": 64,
   "id": "f2ccff08",
   "metadata": {},
   "outputs": [
    {
     "name": "stdout",
     "output_type": "stream",
     "text": [
      "[[ 2.4993e-01  1.6954e-06]\n",
      " [ 1.6954e-06  6.7351e-01]\n",
      " [ 1.6954e-06  9.2587e-01]\n",
      " ...\n",
      " [ 8.9006e-01  1.6954e-06]\n",
      " [ 1.2190e-03  4.4030e-01]\n",
      " [-1.0000e+00 -1.0000e+00]]\n",
      "(5448, 2)\n"
     ]
    }
   ],
   "source": [
    "Y = []\n",
    "empty_pvalues = np.array([[-1,-1]])\n",
    "for gene in targets:\n",
    "    if pvalue_dict.get(gene) is None:\n",
    "        Y.append(empty_pvalues)\n",
    "    else:\n",
    "        Y.append(np.expand_dims(pvalue_dict[gene], axis=0))\n",
    "Y = np.concatenate(Y, axis=0)\n",
    "print(Y)\n",
    "print(Y.shape)"
   ]
  },
  {
   "cell_type": "code",
   "execution_count": 66,
   "id": "e83cc547",
   "metadata": {},
   "outputs": [],
   "source": [
    "np.savez('/oak/stanford/groups/ljerby/SharedResources/Akana2024/Data/A375_labels_and_extras', Y=Y, pvalue_dict=pvalue_dict, tr_ids=tr_ids, te_ids=te_ids, hold_in=hold_in, hold_out=hold_out)"
   ]
  },
  {
   "cell_type": "code",
   "execution_count": 71,
   "id": "a1a7c1b3",
   "metadata": {},
   "outputs": [
    {
     "data": {
      "text/plain": [
       "(936,)"
      ]
     },
     "execution_count": 71,
     "metadata": {},
     "output_type": "execute_result"
    }
   ],
   "source": [
    "np.where(Y[:,0]==-1)[0].shape"
   ]
  },
  {
   "cell_type": "code",
   "execution_count": 72,
   "id": "f6257ed9",
   "metadata": {},
   "outputs": [
    {
     "name": "stdout",
     "output_type": "stream",
     "text": [
      "936\n"
     ]
    }
   ],
   "source": [
    "ct = 0\n",
    "for gene in targets:\n",
    "    if gene in ['B2M', 'CD274', 'NTC']:\n",
    "        ct += 1\n",
    "print(ct)\n",
    "\n",
    "# only a small verification"
   ]
  },
  {
   "cell_type": "code",
   "execution_count": 75,
   "id": "0d506e31",
   "metadata": {},
   "outputs": [
    {
     "data": {
      "text/plain": [
       "array(['Monoculture', 'Monoculture', 'Monoculture', ..., 'Coculture',\n",
       "       'Coculture', 'Coculture'], dtype='<U11')"
      ]
     },
     "execution_count": 75,
     "metadata": {},
     "output_type": "execute_result"
    }
   ],
   "source": [
    "conditions = np.load('/oak/stanford/groups/ljerby/SharedResources/Akana2024/Data/A375_condition.npy')\n",
    "conditions"
   ]
  },
  {
   "cell_type": "code",
   "execution_count": 77,
   "id": "b052dcca",
   "metadata": {},
   "outputs": [
    {
     "data": {
      "text/plain": [
       "array([0., 0., 0., ..., 1., 1., 1.])"
      ]
     },
     "execution_count": 77,
     "metadata": {},
     "output_type": "execute_result"
    }
   ],
   "source": [
    "conditions = (conditions == 'Coculture').astype(float)\n",
    "conditions"
   ]
  },
  {
   "cell_type": "code",
   "execution_count": 81,
   "id": "cd8f41ed",
   "metadata": {},
   "outputs": [
    {
     "name": "stdout",
     "output_type": "stream",
     "text": [
      "(36591, 5448)\n",
      "(36591, 5448)\n",
      "(36592, 5448)\n",
      "(36592, 5448)\n"
     ]
    }
   ],
   "source": [
    "print(tpm.shape)\n",
    "print(cd.shape)\n",
    "conditions = sparse.csr_matrix(conditions)\n",
    "tpm = sparse.vstack([conditions, tpm])\n",
    "cd = sparse.vstack([conditions, cd])\n",
    "print(tpm.shape)\n",
    "print(cd.shape)"
   ]
  },
  {
   "cell_type": "code",
   "execution_count": 82,
   "id": "9794dd01",
   "metadata": {},
   "outputs": [
    {
     "name": "stdout",
     "output_type": "stream",
     "text": [
      "(5448, 36592)\n",
      "(5448, 36592)\n"
     ]
    }
   ],
   "source": [
    "tpm = tpm.transpose()\n",
    "cd = cd.transpose()\n",
    "print(tpm.shape)\n",
    "print(cd.shape)"
   ]
  },
  {
   "cell_type": "code",
   "execution_count": 89,
   "id": "aeced58d",
   "metadata": {},
   "outputs": [],
   "source": [
    "sparse.save_npz('/oak/stanford/groups/ljerby/SharedResources/Akana2024/Data/A375_cd',cd)\n",
    "sparse.save_npz('/oak/stanford/groups/ljerby/SharedResources/Akana2024/Data/A375_tpm',tpm)"
   ]
  },
  {
   "cell_type": "code",
   "execution_count": 2,
   "id": "d81fdbd8",
   "metadata": {},
   "outputs": [],
   "source": [
    "dat = np.load('/oak/stanford/groups/ljerby/SharedResources/Akana2024/Data/A375_labels_and_extras.npz')\n",
    "Y = dat['Y']"
   ]
  },
  {
   "cell_type": "code",
   "execution_count": 7,
   "id": "f6466277",
   "metadata": {},
   "outputs": [
    {
     "data": {
      "text/plain": [
       "(array([1710.,   21.,  156.,    0.,  251.,  282.,  457.,  140.,  161.,\n",
       "        1334.]),\n",
       " array([1.69540000e-06, 1.00001526e-01, 2.00001356e-01, 3.00001187e-01,\n",
       "        4.00001017e-01, 5.00000848e-01, 6.00000678e-01, 7.00000509e-01,\n",
       "        8.00000339e-01, 9.00000170e-01, 1.00000000e+00]),\n",
       " <BarContainer object of 10 artists>)"
      ]
     },
     "execution_count": 7,
     "metadata": {},
     "output_type": "execute_result"
    },
    {
     "data": {
      "image/png": "[encoded data removed]",
      "text/plain": [
       "<Figure size 640x480 with 1 Axes>"
      ]
     },
     "metadata": {},
     "output_type": "display_data"
    },
    {
     "data": {
      "image/png": "[encoded data removed]",
      "text/plain": [
       "<Figure size 640x480 with 1 Axes>"
      ]
     },
     "metadata": {},
     "output_type": "display_data"
    }
   ],
   "source": [
    "Y_tmp = Y[Y>=0].reshape([-1,2])\n",
    "plt.figure()\n",
    "plt.hist(Y_tmp[:,0])\n",
    "\n",
    "plt.figure()\n",
    "plt.hist(Y_tmp[:,1])"
   ]
  },
  {
   "cell_type": "code",
   "execution_count": null,
   "id": "067467b1",
   "metadata": {},
   "outputs": [],
   "source": []
  }
 ],
 "metadata": {
  "kernelspec": {
   "display_name": "Python 3 (ipykernel)",
   "language": "python",
   "name": "python3"
  },
  "language_info": {
   "codemirror_mode": {
    "name": "ipython",
    "version": 3
   },
   "file_extension": ".py",
   "mimetype": "text/x-python",
   "name": "python",
   "nbconvert_exporter": "python",
   "pygments_lexer": "ipython3",
   "version": "3.9.18"
  }
 },
 "nbformat": 4,
 "nbformat_minor": 5
}
